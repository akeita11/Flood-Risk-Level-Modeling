{
  "nbformat": 4,
  "nbformat_minor": 0,
  "metadata": {
    "colab": {
      "name": "Copy of Data601_Final_Project_Final_Colab.ipynb",
      "provenance": [],
      "collapsed_sections": []
    },
    "kernelspec": {
      "name": "python3",
      "display_name": "Python 3"
    }
  },
  "cells": [
    {
      "cell_type": "markdown",
      "metadata": {
        "id": "9lRY2IIH9_VV"
      },
      "source": [
        "The \"arcpy\" module is impossible to use without the ArcGisPro application. The following code is a python-like outputs generated from the ArcGisPro application describing the steps we took to prepare the grid fishnet using our given data.\r\n",
        "\r\n",
        "import arcpy\r\n",
        "\r\n",
        "#Selecting the Study Area\r\n",
        "arcpy.env.workspace = r'C:\\DATA601\\DATA601'\r\n",
        "\r\n",
        "#Extract the properties we are interested\r\n",
        "\r\n",
        "arcpy.SelectLayerByAttribute_management(\"Planning_Area_Py\", \"NEW_SELECTION\", \"PLANNING_1 = 'South Potomac Sector'\")\r\n",
        "arcpy.CopyFeatures_management(\"Planning_Area_Py\", \"National_Harbor = 'South Potomac Sector'\")\r\n",
        "\r\n",
        "#Clipping Properties onto the study Area\r\n",
        "\r\n",
        "inputfeatures= r'C:\\DATA601\\Property_Flattened_Py.shp'\r\n",
        "clipfeatures = r'C:\\DATA601\\National_Harbor.shp'\r\n",
        "\r\n",
        "#assign the clipping properties to a variable\r\n",
        "outputfeatures = r'C:\\DATA601\\Property_Flattened_Py_Clip.shp'\r\n",
        "#\r\n",
        "arcpy.Clip_analysis(inputfeatures,clipfeatures,outputfeatures)\r\n",
        "\r\n",
        "import arcpy\r\n",
        "\r\n",
        "# Local variables of the grids we create\r\n",
        "Fishnet_Clip_shp = \"C:\\\\DATA601\\\\Fishnet_Clip.shp\"\r\n",
        "Fishnet_Clip_label_shp = \"C:\\\\DATA601\\\\Fishnet_Clip_label.shp\"\r\n",
        "\r\n",
        "# This process is to create fishnet\r\n",
        "\r\n",
        "arcpy.CreateFishnet_management(Fishnet_Clip_shp, \"1301743.79022916 374825.531113214\", \"1301743.79022916 374835.531113214\", \"100\", \"100\", \"\", \"\", \"1321134.57067325 412746.152450307\", \"LABELS\", \"C:\\\\DATA601\\\\Property_Flattened_Py_Clip.shp\", \"POLYGON\")\r\n",
        "\r\n",
        "\r\n",
        "#Process: Creating Fishnet_Property Intersect\r\n",
        "#Local variables:\r\n",
        "\r\n",
        "import arcpy\r\n",
        "\r\n",
        "Fishnet_Clip = \"Fishnet_Clip\"\r\n",
        "Property_Flattened_Py_Clip_shp = \"C:\\\\DATA601\\\\Property_Flattened_Py_Clip.shp\"\r\n",
        "Fishnet_Property_Intersect_shp = \"C:\\\\DATA601\\\\Fishnet_Property_Intersect.shp\"\r\n",
        "\r\n",
        "#Process: Intersect the rectangular with the property grid\r\n",
        "arcpy.Intersect_analysis(\"Fishnet_Clip #;C:\\\\DATA601\\\\Property_Flattened_Py_Clip.shp #\", Fishnet_Property_Intersect_shp, \"ALL\", \"\", \"INPUT\")"
      ]
    },
    {
      "cell_type": "code",
      "metadata": {
        "id": "ZLTHvEsr98bE"
      },
      "source": [
        ""
      ],
      "execution_count": null,
      "outputs": []
    },
    {
      "cell_type": "code",
      "metadata": {
        "colab": {
          "base_uri": "https://localhost:8080/"
        },
        "id": "nYaXtYPtauvP",
        "outputId": "3f35bcc4-4772-45cf-85c2-fa3b3efc5ae1"
      },
      "source": [
        "###Mount the google drive account where the files are saved###\n",
        "from google.colab import drive\n",
        "drive.mount('/content/drive')"
      ],
      "execution_count": null,
      "outputs": [
        {
          "output_type": "stream",
          "text": [
            "Drive already mounted at /content/drive; to attempt to forcibly remount, call drive.mount(\"/content/drive\", force_remount=True).\n"
          ],
          "name": "stdout"
        }
      ]
    },
    {
      "cell_type": "code",
      "metadata": {
        "colab": {
          "base_uri": "https://localhost:8080/"
        },
        "id": "RAPqPOMe72Ak",
        "outputId": "05322705-7cc8-4228-8444-8c0680831e83"
      },
      "source": [
        "!ls"
      ],
      "execution_count": null,
      "outputs": [
        {
          "output_type": "stream",
          "text": [
            " CH_TeachReach0824.pdf\n",
            "'Colab Notebooks'\n",
            "'Copy of Data601_Final_WIP_updated_Linear_Regression_BaseCoast_ShapeArea_BaseFlood.ipynb'\n",
            "'Copy of DATA 601 Project_Slides.pptx'\n",
            "'Copy of Training 2 - Asynchronous (1).gdoc'\n",
            "'Copy of Training 2 - Asynchronous.gdoc'\n",
            " Data1\n",
            " DATA601\n",
            " DATA601_Project\n",
            "'DATA601 Project Idea.gslides'\n",
            " Data602_Project.gdoc\n",
            "'Final_DF_combined (1).cpg'\n",
            "'Final_DF_combined (1).dbf'\n",
            "'Final_DF_combined (1).prj'\n",
            "'Final_DF_combined (1).shp'\n",
            "'Final_DF_combined (1).shx'\n",
            " Final_DF_combined.cpg\n",
            " Final_DF_combined.dbf\n",
            " Final_DF_combined.prj\n",
            " Final_DF_combined.shp\n",
            " Final_DF_combined.shx\n",
            "'Fishnet_Property_Intersect (1).rar'\n",
            " Fishnet_Property_Intersect.rar\n",
            " Glenmount\n",
            "'Meet Recordings'\n",
            "'MS Literature Review'\n",
            "'Texts for Learning'\n",
            "'UMBC Lecture Week 2.gslides'\n",
            " USGS_NED_OPR_MD_VA_Sandy_NCR_2014_18SUH325294_elev_TIFF_2019.zip\n",
            "'Y= ₀ + ₁X₁ +.gdoc'\n"
          ],
          "name": "stdout"
        }
      ]
    },
    {
      "cell_type": "markdown",
      "metadata": {
        "id": "6tSQZn988Hzx"
      },
      "source": [
        "content"
      ]
    },
    {
      "cell_type": "code",
      "metadata": {
        "id": "8EMIz2P5bIHm",
        "colab": {
          "base_uri": "https://localhost:8080/"
        },
        "outputId": "fb32a42d-3081-4477-84d7-4e2d78551737"
      },
      "source": [
        "###Install the necessary libraries###\n",
        "%pip install geopandas\n",
        "%pip install libpysal\n",
        "%pip install mapclassify"
      ],
      "execution_count": null,
      "outputs": [
        {
          "output_type": "stream",
          "text": [
            "Requirement already satisfied: geopandas in /usr/local/lib/python3.6/dist-packages (0.8.1)\n",
            "Requirement already satisfied: pyproj>=2.2.0 in /usr/local/lib/python3.6/dist-packages (from geopandas) (3.0.0.post1)\n",
            "Requirement already satisfied: pandas>=0.23.0 in /usr/local/lib/python3.6/dist-packages (from geopandas) (1.1.5)\n",
            "Requirement already satisfied: fiona in /usr/local/lib/python3.6/dist-packages (from geopandas) (1.8.18)\n",
            "Requirement already satisfied: shapely in /usr/local/lib/python3.6/dist-packages (from geopandas) (1.7.1)\n",
            "Requirement already satisfied: certifi in /usr/local/lib/python3.6/dist-packages (from pyproj>=2.2.0->geopandas) (2020.12.5)\n",
            "Requirement already satisfied: numpy>=1.15.4 in /usr/local/lib/python3.6/dist-packages (from pandas>=0.23.0->geopandas) (1.18.5)\n",
            "Requirement already satisfied: python-dateutil>=2.7.3 in /usr/local/lib/python3.6/dist-packages (from pandas>=0.23.0->geopandas) (2.8.1)\n",
            "Requirement already satisfied: pytz>=2017.2 in /usr/local/lib/python3.6/dist-packages (from pandas>=0.23.0->geopandas) (2018.9)\n",
            "Requirement already satisfied: attrs>=17 in /usr/local/lib/python3.6/dist-packages (from fiona->geopandas) (20.3.0)\n",
            "Requirement already satisfied: click-plugins>=1.0 in /usr/local/lib/python3.6/dist-packages (from fiona->geopandas) (1.1.1)\n",
            "Requirement already satisfied: six>=1.7 in /usr/local/lib/python3.6/dist-packages (from fiona->geopandas) (1.15.0)\n",
            "Requirement already satisfied: munch in /usr/local/lib/python3.6/dist-packages (from fiona->geopandas) (2.5.0)\n",
            "Requirement already satisfied: click<8,>=4.0 in /usr/local/lib/python3.6/dist-packages (from fiona->geopandas) (7.1.2)\n",
            "Requirement already satisfied: cligj>=0.5 in /usr/local/lib/python3.6/dist-packages (from fiona->geopandas) (0.7.1)\n",
            "Requirement already satisfied: libpysal in /usr/local/lib/python3.6/dist-packages (4.3.0)\n",
            "Requirement already satisfied: jinja2 in /usr/local/lib/python3.6/dist-packages (from libpysal) (2.11.2)\n",
            "Requirement already satisfied: beautifulsoup4 in /usr/local/lib/python3.6/dist-packages (from libpysal) (4.6.3)\n",
            "Requirement already satisfied: scipy>=0.11 in /usr/local/lib/python3.6/dist-packages (from libpysal) (1.4.1)\n",
            "Requirement already satisfied: requests in /usr/local/lib/python3.6/dist-packages (from libpysal) (2.23.0)\n",
            "Requirement already satisfied: numpy>=1.3 in /usr/local/lib/python3.6/dist-packages (from libpysal) (1.18.5)\n",
            "Requirement already satisfied: pandas in /usr/local/lib/python3.6/dist-packages (from libpysal) (1.1.5)\n",
            "Requirement already satisfied: MarkupSafe>=0.23 in /usr/local/lib/python3.6/dist-packages (from jinja2->libpysal) (1.1.1)\n",
            "Requirement already satisfied: chardet<4,>=3.0.2 in /usr/local/lib/python3.6/dist-packages (from requests->libpysal) (3.0.4)\n",
            "Requirement already satisfied: urllib3!=1.25.0,!=1.25.1,<1.26,>=1.21.1 in /usr/local/lib/python3.6/dist-packages (from requests->libpysal) (1.24.3)\n",
            "Requirement already satisfied: idna<3,>=2.5 in /usr/local/lib/python3.6/dist-packages (from requests->libpysal) (2.10)\n",
            "Requirement already satisfied: certifi>=2017.4.17 in /usr/local/lib/python3.6/dist-packages (from requests->libpysal) (2020.12.5)\n",
            "Requirement already satisfied: python-dateutil>=2.7.3 in /usr/local/lib/python3.6/dist-packages (from pandas->libpysal) (2.8.1)\n",
            "Requirement already satisfied: pytz>=2017.2 in /usr/local/lib/python3.6/dist-packages (from pandas->libpysal) (2018.9)\n",
            "Requirement already satisfied: six>=1.5 in /usr/local/lib/python3.6/dist-packages (from python-dateutil>=2.7.3->pandas->libpysal) (1.15.0)\n",
            "Requirement already satisfied: mapclassify in /usr/local/lib/python3.6/dist-packages (2.3.0)\n",
            "Requirement already satisfied: numpy>=1.3 in /usr/local/lib/python3.6/dist-packages (from mapclassify) (1.18.5)\n",
            "Requirement already satisfied: scikit-learn in /usr/local/lib/python3.6/dist-packages (from mapclassify) (0.22.2.post1)\n",
            "Requirement already satisfied: pandas>=1.0 in /usr/local/lib/python3.6/dist-packages (from mapclassify) (1.1.5)\n",
            "Requirement already satisfied: scipy>=1.0 in /usr/local/lib/python3.6/dist-packages (from mapclassify) (1.4.1)\n",
            "Requirement already satisfied: networkx in /usr/local/lib/python3.6/dist-packages (from mapclassify) (2.5)\n",
            "Requirement already satisfied: joblib>=0.11 in /usr/local/lib/python3.6/dist-packages (from scikit-learn->mapclassify) (0.17.0)\n",
            "Requirement already satisfied: pytz>=2017.2 in /usr/local/lib/python3.6/dist-packages (from pandas>=1.0->mapclassify) (2018.9)\n",
            "Requirement already satisfied: python-dateutil>=2.7.3 in /usr/local/lib/python3.6/dist-packages (from pandas>=1.0->mapclassify) (2.8.1)\n",
            "Requirement already satisfied: decorator>=4.3.0 in /usr/local/lib/python3.6/dist-packages (from networkx->mapclassify) (4.4.2)\n",
            "Requirement already satisfied: six>=1.5 in /usr/local/lib/python3.6/dist-packages (from python-dateutil>=2.7.3->pandas>=1.0->mapclassify) (1.15.0)\n"
          ],
          "name": "stdout"
        }
      ]
    },
    {
      "cell_type": "code",
      "metadata": {
        "colab": {
          "base_uri": "https://localhost:8080/"
        },
        "id": "sq5cs_LMbT7h",
        "outputId": "9ccc2593-ca5f-4638-f949-cf9db2a884cf"
      },
      "source": [
        "###Check contents of drive folder###\n",
        "!ls #follow through with changing directory if desired file is not found in folder"
      ],
      "execution_count": null,
      "outputs": [
        {
          "output_type": "stream",
          "text": [
            " CH_TeachReach0824.pdf\n",
            "'Colab Notebooks'\n",
            "'Copy of Data601_Final_WIP_updated_Linear_Regression_BaseCoast_ShapeArea_BaseFlood.ipynb'\n",
            "'Copy of DATA 601 Project_Slides.pptx'\n",
            "'Copy of Training 2 - Asynchronous (1).gdoc'\n",
            "'Copy of Training 2 - Asynchronous.gdoc'\n",
            " Data1\n",
            " DATA601\n",
            " DATA601_Project\n",
            "'DATA601 Project Idea.gslides'\n",
            " Data602_Project.gdoc\n",
            "'Final_DF_combined (1).cpg'\n",
            "'Final_DF_combined (1).dbf'\n",
            "'Final_DF_combined (1).prj'\n",
            "'Final_DF_combined (1).shp'\n",
            "'Final_DF_combined (1).shx'\n",
            " Final_DF_combined.cpg\n",
            " Final_DF_combined.dbf\n",
            " Final_DF_combined.prj\n",
            " Final_DF_combined.shp\n",
            " Final_DF_combined.shx\n",
            "'Fishnet_Property_Intersect (1).rar'\n",
            " Fishnet_Property_Intersect.rar\n",
            " Glenmount\n",
            "'Meet Recordings'\n",
            "'MS Literature Review'\n",
            "'Texts for Learning'\n",
            "'UMBC Lecture Week 2.gslides'\n",
            " USGS_NED_OPR_MD_VA_Sandy_NCR_2014_18SUH325294_elev_TIFF_2019.zip\n",
            "'Y= ₀ + ₁X₁ +.gdoc'\n"
          ],
          "name": "stdout"
        }
      ]
    },
    {
      "cell_type": "code",
      "metadata": {
        "colab": {
          "base_uri": "https://localhost:8080/"
        },
        "id": "aDH_cAz2bai9",
        "outputId": "1c6205fc-94f5-43c4-8ae1-84437cc9cd69"
      },
      "source": [
        "cd ./content/drive/My Drive/"
      ],
      "execution_count": null,
      "outputs": [
        {
          "output_type": "stream",
          "text": [
            "[Errno 2] No such file or directory: './content/drive/My Drive/'\n",
            "/content/drive/My Drive\n"
          ],
          "name": "stdout"
        }
      ]
    },
    {
      "cell_type": "code",
      "metadata": {
        "colab": {
          "base_uri": "https://localhost:8080/"
        },
        "id": "U5F06vUSxKz1",
        "outputId": "8a6989b4-669b-412d-c4c9-0f9ef3570e07"
      },
      "source": [
        "!ls"
      ],
      "execution_count": null,
      "outputs": [
        {
          "output_type": "stream",
          "text": [
            " CH_TeachReach0824.pdf\n",
            "'Colab Notebooks'\n",
            "'Copy of Data601_Final_WIP_updated_Linear_Regression_BaseCoast_ShapeArea_BaseFlood.ipynb'\n",
            "'Copy of DATA 601 Project_Slides.pptx'\n",
            "'Copy of Training 2 - Asynchronous (1).gdoc'\n",
            "'Copy of Training 2 - Asynchronous.gdoc'\n",
            " Data1\n",
            " DATA601\n",
            " DATA601_Project\n",
            "'DATA601 Project Idea.gslides'\n",
            " Data602_Project.gdoc\n",
            "'Final_DF_combined (1).cpg'\n",
            "'Final_DF_combined (1).dbf'\n",
            "'Final_DF_combined (1).prj'\n",
            "'Final_DF_combined (1).shp'\n",
            "'Final_DF_combined (1).shx'\n",
            " Final_DF_combined.cpg\n",
            " Final_DF_combined.dbf\n",
            " Final_DF_combined.prj\n",
            " Final_DF_combined.shp\n",
            " Final_DF_combined.shx\n",
            "'Fishnet_Property_Intersect (1).rar'\n",
            " Fishnet_Property_Intersect.rar\n",
            " Glenmount\n",
            "'Meet Recordings'\n",
            "'MS Literature Review'\n",
            "'Texts for Learning'\n",
            "'UMBC Lecture Week 2.gslides'\n",
            " USGS_NED_OPR_MD_VA_Sandy_NCR_2014_18SUH325294_elev_TIFF_2019.zip\n",
            "'Y= ₀ + ₁X₁ +.gdoc'\n"
          ],
          "name": "stdout"
        }
      ]
    },
    {
      "cell_type": "code",
      "metadata": {
        "id": "vejqdC0ecIF0"
      },
      "source": [
        "###Import the needed libraries##\n",
        "import geopandas as gpd\n",
        "import pandas as pd\n",
        "import matplotlib.pyplot as plt\n",
        "import numpy as np"
      ],
      "execution_count": null,
      "outputs": []
    },
    {
      "cell_type": "code",
      "metadata": {
        "id": "AS7f6HLPcoB3"
      },
      "source": [
        "###Import the needed shape file###\n",
        "from google.colab import drive\n",
        "filepath = './Final_DF_combined.shp'"
      ],
      "execution_count": null,
      "outputs": []
    },
    {
      "cell_type": "code",
      "metadata": {
        "id": "tfz9krNdcwVd",
        "colab": {
          "base_uri": "https://localhost:8080/",
          "height": 479
        },
        "outputId": "fb238491-5834-47a9-9af1-ac0fff4cad46"
      },
      "source": [
        "###Read in the shape file into the working environment###\n",
        "newDF = gpd.read_file(filepath)\n",
        "newDF.head() #take a look at the first five examples"
      ],
      "execution_count": null,
      "outputs": [
        {
          "output_type": "execute_result",
          "data": {
            "text/html": [
              "<div>\n",
              "<style scoped>\n",
              "    .dataframe tbody tr th:only-of-type {\n",
              "        vertical-align: middle;\n",
              "    }\n",
              "\n",
              "    .dataframe tbody tr th {\n",
              "        vertical-align: top;\n",
              "    }\n",
              "\n",
              "    .dataframe thead th {\n",
              "        text-align: right;\n",
              "    }\n",
              "</style>\n",
              "<table border=\"1\" class=\"dataframe\">\n",
              "  <thead>\n",
              "    <tr style=\"text-align: right;\">\n",
              "      <th></th>\n",
              "      <th>FID_Fishne</th>\n",
              "      <th>Id</th>\n",
              "      <th>LAND_AREA1</th>\n",
              "      <th>MAIL_ZIP5</th>\n",
              "      <th>SHAPE_AREA</th>\n",
              "      <th>ELE_Y_N</th>\n",
              "      <th>EX_FLD_ELV</th>\n",
              "      <th>SEA_LEVEL</th>\n",
              "      <th>CURR_ASSES</th>\n",
              "      <th>FID_FISH_1</th>\n",
              "      <th>COUNT</th>\n",
              "      <th>AREA</th>\n",
              "      <th>MIN</th>\n",
              "      <th>MAX</th>\n",
              "      <th>MEAN</th>\n",
              "      <th>geometry</th>\n",
              "    </tr>\n",
              "  </thead>\n",
              "  <tbody>\n",
              "    <tr>\n",
              "      <th>0</th>\n",
              "      <td>3</td>\n",
              "      <td>3</td>\n",
              "      <td>994910.4</td>\n",
              "      <td>20737</td>\n",
              "      <td>1504.894799</td>\n",
              "      <td>Y</td>\n",
              "      <td>9.0</td>\n",
              "      <td>10.0</td>\n",
              "      <td>556533</td>\n",
              "      <td>3</td>\n",
              "      <td>228</td>\n",
              "      <td>912.0</td>\n",
              "      <td>-1</td>\n",
              "      <td>4</td>\n",
              "      <td>2.407895</td>\n",
              "      <td>POLYGON ((-8570512.323 4678212.008, -8570524.2...</td>\n",
              "    </tr>\n",
              "    <tr>\n",
              "      <th>1</th>\n",
              "      <td>4</td>\n",
              "      <td>4</td>\n",
              "      <td>994910.4</td>\n",
              "      <td>20737</td>\n",
              "      <td>4690.365316</td>\n",
              "      <td>Y</td>\n",
              "      <td>9.0</td>\n",
              "      <td>10.0</td>\n",
              "      <td>556533</td>\n",
              "      <td>4</td>\n",
              "      <td>726</td>\n",
              "      <td>2904.0</td>\n",
              "      <td>1</td>\n",
              "      <td>4</td>\n",
              "      <td>3.134986</td>\n",
              "      <td>POLYGON ((-8570482.323 4678203.273, -8570483.9...</td>\n",
              "    </tr>\n",
              "    <tr>\n",
              "      <th>2</th>\n",
              "      <td>5</td>\n",
              "      <td>5</td>\n",
              "      <td>994910.4</td>\n",
              "      <td>20737</td>\n",
              "      <td>5167.544467</td>\n",
              "      <td>Y</td>\n",
              "      <td>9.0</td>\n",
              "      <td>10.0</td>\n",
              "      <td>556533</td>\n",
              "      <td>5</td>\n",
              "      <td>784</td>\n",
              "      <td>3136.0</td>\n",
              "      <td>-1</td>\n",
              "      <td>5</td>\n",
              "      <td>3.507653</td>\n",
              "      <td>POLYGON ((-8570452.323 4678212.579, -8570454.2...</td>\n",
              "    </tr>\n",
              "    <tr>\n",
              "      <th>3</th>\n",
              "      <td>7</td>\n",
              "      <td>6</td>\n",
              "      <td>994910.4</td>\n",
              "      <td>20737</td>\n",
              "      <td>1608.605354</td>\n",
              "      <td>Y</td>\n",
              "      <td>9.0</td>\n",
              "      <td>10.0</td>\n",
              "      <td>556533</td>\n",
              "      <td>7</td>\n",
              "      <td>255</td>\n",
              "      <td>1020.0</td>\n",
              "      <td>-1</td>\n",
              "      <td>5</td>\n",
              "      <td>2.400000</td>\n",
              "      <td>POLYGON ((-8570422.323 4678222.108, -8570423.3...</td>\n",
              "    </tr>\n",
              "    <tr>\n",
              "      <th>4</th>\n",
              "      <td>16</td>\n",
              "      <td>11</td>\n",
              "      <td>994910.4</td>\n",
              "      <td>20737</td>\n",
              "      <td>1448.211549</td>\n",
              "      <td>Y</td>\n",
              "      <td>9.0</td>\n",
              "      <td>10.0</td>\n",
              "      <td>556533</td>\n",
              "      <td>16</td>\n",
              "      <td>217</td>\n",
              "      <td>868.0</td>\n",
              "      <td>-1</td>\n",
              "      <td>4</td>\n",
              "      <td>2.082949</td>\n",
              "      <td>POLYGON ((-8570542.323 4678232.984, -8570543.3...</td>\n",
              "    </tr>\n",
              "  </tbody>\n",
              "</table>\n",
              "</div>"
            ],
            "text/plain": [
              "   FID_Fishne  Id  ...      MEAN                                           geometry\n",
              "0           3   3  ...  2.407895  POLYGON ((-8570512.323 4678212.008, -8570524.2...\n",
              "1           4   4  ...  3.134986  POLYGON ((-8570482.323 4678203.273, -8570483.9...\n",
              "2           5   5  ...  3.507653  POLYGON ((-8570452.323 4678212.579, -8570454.2...\n",
              "3           7   6  ...  2.400000  POLYGON ((-8570422.323 4678222.108, -8570423.3...\n",
              "4          16  11  ...  2.082949  POLYGON ((-8570542.323 4678232.984, -8570543.3...\n",
              "\n",
              "[5 rows x 16 columns]"
            ]
          },
          "metadata": {
            "tags": []
          },
          "execution_count": 109
        }
      ]
    },
    {
      "cell_type": "code",
      "metadata": {
        "id": "4af8wVoTgP8g",
        "colab": {
          "base_uri": "https://localhost:8080/",
          "height": 889
        },
        "outputId": "8dd66802-6187-4790-fb9d-32241fd0166a"
      },
      "source": [
        "###Create new column 'area cost'###\n",
        "newDF['area_cost'] = (newDF['SHAPE_AREA']/newDF['LAND_AREA1'])*newDF['CURR_ASSES']\n",
        "\n",
        "\n",
        "###Create new column 'BaseFLD'###\n",
        "newDF['BaseFLD'] = newDF['EX_FLD_ELV']-newDF['MEAN']\n",
        "newDF.loc[newDF['BaseFLD'] < 0,'BaseFLD'] = 0\n",
        "\n",
        "\n",
        "###Create new columns 'SeaLevel_1', 'SeaLevel_2', and 'SeaLevel_3'###\n",
        "newDF['SeaLevel_1'] = newDF['SEA_LEVEL']-newDF['MEAN']\n",
        "newDF.loc[newDF['SeaLevel_1'] < 0,'SeaLevel_1'] = 0\n",
        "newDF['SeaLevel_2'] = newDF['SEA_LEVEL']-newDF['MEAN']+1\n",
        "newDF.loc[newDF['SeaLevel_2'] < 0,'SeaLevel_2'] = 0\n",
        "newDF['SeaLevel_3'] = newDF['SEA_LEVEL']-newDF['MEAN']+2\n",
        "newDF.loc[newDF['SeaLevel_3'] < 0,'SeaLevel_3'] = 0\n",
        "\n",
        "#Check to see if columns have been added###\n",
        "newDF.sample(10)"
      ],
      "execution_count": null,
      "outputs": [
        {
          "output_type": "execute_result",
          "data": {
            "text/html": [
              "<div>\n",
              "<style scoped>\n",
              "    .dataframe tbody tr th:only-of-type {\n",
              "        vertical-align: middle;\n",
              "    }\n",
              "\n",
              "    .dataframe tbody tr th {\n",
              "        vertical-align: top;\n",
              "    }\n",
              "\n",
              "    .dataframe thead th {\n",
              "        text-align: right;\n",
              "    }\n",
              "</style>\n",
              "<table border=\"1\" class=\"dataframe\">\n",
              "  <thead>\n",
              "    <tr style=\"text-align: right;\">\n",
              "      <th></th>\n",
              "      <th>FID_Fishne</th>\n",
              "      <th>Id</th>\n",
              "      <th>LAND_AREA1</th>\n",
              "      <th>MAIL_ZIP5</th>\n",
              "      <th>SHAPE_AREA</th>\n",
              "      <th>ELE_Y_N</th>\n",
              "      <th>EX_FLD_ELV</th>\n",
              "      <th>SEA_LEVEL</th>\n",
              "      <th>CURR_ASSES</th>\n",
              "      <th>FID_FISH_1</th>\n",
              "      <th>COUNT</th>\n",
              "      <th>AREA</th>\n",
              "      <th>MIN</th>\n",
              "      <th>MAX</th>\n",
              "      <th>MEAN</th>\n",
              "      <th>geometry</th>\n",
              "      <th>area_cost</th>\n",
              "      <th>BaseFLD</th>\n",
              "      <th>SeaLevel_1</th>\n",
              "      <th>SeaLevel_2</th>\n",
              "      <th>SeaLevel_3</th>\n",
              "    </tr>\n",
              "  </thead>\n",
              "  <tbody>\n",
              "    <tr>\n",
              "      <th>58742</th>\n",
              "      <td>60505</td>\n",
              "      <td>33792</td>\n",
              "      <td>24035.0</td>\n",
              "      <td>20744</td>\n",
              "      <td>22.611303</td>\n",
              "      <td>Y</td>\n",
              "      <td>10.0</td>\n",
              "      <td>11.0</td>\n",
              "      <td>412100</td>\n",
              "      <td>60505</td>\n",
              "      <td>4</td>\n",
              "      <td>16.0</td>\n",
              "      <td>62</td>\n",
              "      <td>62</td>\n",
              "      <td>62.000000</td>\n",
              "      <td>POLYGON ((-8573659.300 4683292.153, -8573662.3...</td>\n",
              "      <td>387.689531</td>\n",
              "      <td>0.0</td>\n",
              "      <td>0.0</td>\n",
              "      <td>0.0</td>\n",
              "      <td>0.0</td>\n",
              "    </tr>\n",
              "    <tr>\n",
              "      <th>15053</th>\n",
              "      <td>15566</td>\n",
              "      <td>9713</td>\n",
              "      <td>459993.6</td>\n",
              "      <td>20737</td>\n",
              "      <td>9687.480625</td>\n",
              "      <td>Y</td>\n",
              "      <td>9.0</td>\n",
              "      <td>10.0</td>\n",
              "      <td>282933</td>\n",
              "      <td>15566</td>\n",
              "      <td>1482</td>\n",
              "      <td>5928.0</td>\n",
              "      <td>205</td>\n",
              "      <td>208</td>\n",
              "      <td>206.261808</td>\n",
              "      <td>POLYGON ((-8570152.323 4680022.153, -8570182.3...</td>\n",
              "      <td>5958.578458</td>\n",
              "      <td>0.0</td>\n",
              "      <td>0.0</td>\n",
              "      <td>0.0</td>\n",
              "      <td>0.0</td>\n",
              "    </tr>\n",
              "    <tr>\n",
              "      <th>51454</th>\n",
              "      <td>53037</td>\n",
              "      <td>29703</td>\n",
              "      <td>207781.2</td>\n",
              "      <td>20878</td>\n",
              "      <td>9687.480626</td>\n",
              "      <td>Y</td>\n",
              "      <td>9.0</td>\n",
              "      <td>10.0</td>\n",
              "      <td>972400</td>\n",
              "      <td>53037</td>\n",
              "      <td>1482</td>\n",
              "      <td>5928.0</td>\n",
              "      <td>34</td>\n",
              "      <td>41</td>\n",
              "      <td>36.307692</td>\n",
              "      <td>POLYGON ((-8570902.323 4682692.153, -8570932.3...</td>\n",
              "      <td>45336.662608</td>\n",
              "      <td>0.0</td>\n",
              "      <td>0.0</td>\n",
              "      <td>0.0</td>\n",
              "      <td>0.0</td>\n",
              "    </tr>\n",
              "    <tr>\n",
              "      <th>109303</th>\n",
              "      <td>112589</td>\n",
              "      <td>64843</td>\n",
              "      <td>11487.0</td>\n",
              "      <td>20744</td>\n",
              "      <td>6957.599378</td>\n",
              "      <td>Y</td>\n",
              "      <td>10.0</td>\n",
              "      <td>11.0</td>\n",
              "      <td>383133</td>\n",
              "      <td>112589</td>\n",
              "      <td>1038</td>\n",
              "      <td>4152.0</td>\n",
              "      <td>156</td>\n",
              "      <td>163</td>\n",
              "      <td>159.599229</td>\n",
              "      <td>POLYGON ((-8573512.323 4689230.711, -8573512.3...</td>\n",
              "      <td>232061.105804</td>\n",
              "      <td>0.0</td>\n",
              "      <td>0.0</td>\n",
              "      <td>0.0</td>\n",
              "      <td>0.0</td>\n",
              "    </tr>\n",
              "    <tr>\n",
              "      <th>72923</th>\n",
              "      <td>75068</td>\n",
              "      <td>41769</td>\n",
              "      <td>50529.6</td>\n",
              "      <td>20744</td>\n",
              "      <td>4886.733585</td>\n",
              "      <td>Y</td>\n",
              "      <td>10.0</td>\n",
              "      <td>11.0</td>\n",
              "      <td>387100</td>\n",
              "      <td>75068</td>\n",
              "      <td>748</td>\n",
              "      <td>2992.0</td>\n",
              "      <td>50</td>\n",
              "      <td>53</td>\n",
              "      <td>51.022727</td>\n",
              "      <td>POLYGON ((-8572012.323 4684476.492, -8572042.3...</td>\n",
              "      <td>37436.563335</td>\n",
              "      <td>0.0</td>\n",
              "      <td>0.0</td>\n",
              "      <td>0.0</td>\n",
              "      <td>0.0</td>\n",
              "    </tr>\n",
              "    <tr>\n",
              "      <th>115190</th>\n",
              "      <td>118617</td>\n",
              "      <td>67690</td>\n",
              "      <td>0.0</td>\n",
              "      <td>None</td>\n",
              "      <td>21.183125</td>\n",
              "      <td>Y</td>\n",
              "      <td>10.0</td>\n",
              "      <td>11.0</td>\n",
              "      <td>0</td>\n",
              "      <td>118617</td>\n",
              "      <td>2</td>\n",
              "      <td>8.0</td>\n",
              "      <td>91</td>\n",
              "      <td>91</td>\n",
              "      <td>91.000000</td>\n",
              "      <td>POLYGON ((-8571502.323 4689919.640, -8571503.6...</td>\n",
              "      <td>NaN</td>\n",
              "      <td>0.0</td>\n",
              "      <td>0.0</td>\n",
              "      <td>0.0</td>\n",
              "      <td>0.0</td>\n",
              "    </tr>\n",
              "    <tr>\n",
              "      <th>106453</th>\n",
              "      <td>109678</td>\n",
              "      <td>63350</td>\n",
              "      <td>21065.0</td>\n",
              "      <td>20744</td>\n",
              "      <td>705.747676</td>\n",
              "      <td>Y</td>\n",
              "      <td>10.0</td>\n",
              "      <td>11.0</td>\n",
              "      <td>382200</td>\n",
              "      <td>109678</td>\n",
              "      <td>104</td>\n",
              "      <td>416.0</td>\n",
              "      <td>90</td>\n",
              "      <td>91</td>\n",
              "      <td>90.278846</td>\n",
              "      <td>POLYGON ((-8574472.323 4688894.962, -8574474.0...</td>\n",
              "      <td>12804.973269</td>\n",
              "      <td>0.0</td>\n",
              "      <td>0.0</td>\n",
              "      <td>0.0</td>\n",
              "      <td>0.0</td>\n",
              "    </tr>\n",
              "    <tr>\n",
              "      <th>64668</th>\n",
              "      <td>66579</td>\n",
              "      <td>37066</td>\n",
              "      <td>20000.0</td>\n",
              "      <td>20744</td>\n",
              "      <td>1099.250777</td>\n",
              "      <td>Y</td>\n",
              "      <td>10.0</td>\n",
              "      <td>11.0</td>\n",
              "      <td>364300</td>\n",
              "      <td>66579</td>\n",
              "      <td>174</td>\n",
              "      <td>696.0</td>\n",
              "      <td>76</td>\n",
              "      <td>77</td>\n",
              "      <td>76.574713</td>\n",
              "      <td>POLYGON ((-8572432.323 4683792.927, -8572441.2...</td>\n",
              "      <td>20022.852911</td>\n",
              "      <td>0.0</td>\n",
              "      <td>0.0</td>\n",
              "      <td>0.0</td>\n",
              "      <td>0.0</td>\n",
              "    </tr>\n",
              "    <tr>\n",
              "      <th>104068</th>\n",
              "      <td>107240</td>\n",
              "      <td>61968</td>\n",
              "      <td>28854.0</td>\n",
              "      <td>20744</td>\n",
              "      <td>3648.837740</td>\n",
              "      <td>Y</td>\n",
              "      <td>10.0</td>\n",
              "      <td>11.0</td>\n",
              "      <td>16700</td>\n",
              "      <td>107240</td>\n",
              "      <td>558</td>\n",
              "      <td>2232.0</td>\n",
              "      <td>165</td>\n",
              "      <td>167</td>\n",
              "      <td>166.912186</td>\n",
              "      <td>POLYGON ((-8572112.397 4688542.153, -8572132.3...</td>\n",
              "      <td>2111.859370</td>\n",
              "      <td>0.0</td>\n",
              "      <td>0.0</td>\n",
              "      <td>0.0</td>\n",
              "      <td>0.0</td>\n",
              "    </tr>\n",
              "    <tr>\n",
              "      <th>74493</th>\n",
              "      <td>76678</td>\n",
              "      <td>42724</td>\n",
              "      <td>620294.4</td>\n",
              "      <td>20737</td>\n",
              "      <td>9687.480626</td>\n",
              "      <td>Y</td>\n",
              "      <td>10.0</td>\n",
              "      <td>11.0</td>\n",
              "      <td>948100</td>\n",
              "      <td>76678</td>\n",
              "      <td>1444</td>\n",
              "      <td>5776.0</td>\n",
              "      <td>55</td>\n",
              "      <td>66</td>\n",
              "      <td>61.128809</td>\n",
              "      <td>POLYGON ((-8573932.323 4684612.153, -8573962.3...</td>\n",
              "      <td>14807.001936</td>\n",
              "      <td>0.0</td>\n",
              "      <td>0.0</td>\n",
              "      <td>0.0</td>\n",
              "      <td>0.0</td>\n",
              "    </tr>\n",
              "  </tbody>\n",
              "</table>\n",
              "</div>"
            ],
            "text/plain": [
              "        FID_Fishne     Id  LAND_AREA1  ... SeaLevel_1  SeaLevel_2 SeaLevel_3\n",
              "58742        60505  33792     24035.0  ...        0.0         0.0        0.0\n",
              "15053        15566   9713    459993.6  ...        0.0         0.0        0.0\n",
              "51454        53037  29703    207781.2  ...        0.0         0.0        0.0\n",
              "109303      112589  64843     11487.0  ...        0.0         0.0        0.0\n",
              "72923        75068  41769     50529.6  ...        0.0         0.0        0.0\n",
              "115190      118617  67690         0.0  ...        0.0         0.0        0.0\n",
              "106453      109678  63350     21065.0  ...        0.0         0.0        0.0\n",
              "64668        66579  37066     20000.0  ...        0.0         0.0        0.0\n",
              "104068      107240  61968     28854.0  ...        0.0         0.0        0.0\n",
              "74493        76678  42724    620294.4  ...        0.0         0.0        0.0\n",
              "\n",
              "[10 rows x 21 columns]"
            ]
          },
          "metadata": {
            "tags": []
          },
          "execution_count": 110
        }
      ]
    },
    {
      "cell_type": "code",
      "metadata": {
        "colab": {
          "base_uri": "https://localhost:8080/"
        },
        "id": "kaSfA8aPho8Q",
        "outputId": "5692f84a-cce3-45e2-9443-0cbaf69351fd"
      },
      "source": [
        "###Take a look at the shape of the DataFrame###\n",
        "newDF.shape #134040 rows and 21 columns"
      ],
      "execution_count": null,
      "outputs": [
        {
          "output_type": "execute_result",
          "data": {
            "text/plain": [
              "(134040, 21)"
            ]
          },
          "metadata": {
            "tags": []
          },
          "execution_count": 111
        }
      ]
    },
    {
      "cell_type": "code",
      "metadata": {
        "colab": {
          "base_uri": "https://localhost:8080/",
          "height": 890
        },
        "id": "V9PbQlIBiFgx",
        "outputId": "a9d6ce99-873b-457f-80b6-99edc8c27da5"
      },
      "source": [
        "###Create scatterplot to check for pair-wise correlations between the features###\n",
        "###From Rashka Chapter 10###\n",
        "import matplotlib.pyplot as plt \n",
        "from mlxtend.plotting import scatterplotmatrix\n",
        "\n",
        "cols = ['BaseFLD', 'LAND_AREA1', 'CURR_ASSES', 'area_cost', 'SHAPE_AREA']\n",
        "\n",
        "scatterplotmatrix(newDF[cols].values, names=cols, figsize=(10, 8), alpha=0.5)\n",
        "plt.tight_layout()\n",
        "plt.show() #error message because some 'inf' values are present in the dataset.\n",
        "            #We will address these 'inf' values further down"
      ],
      "execution_count": null,
      "outputs": [
        {
          "output_type": "error",
          "ename": "ValueError",
          "evalue": "ignored",
          "traceback": [
            "\u001b[0;31m---------------------------------------------------------------------------\u001b[0m",
            "\u001b[0;31mValueError\u001b[0m                                Traceback (most recent call last)",
            "\u001b[0;32m<ipython-input-112-4f5a4118bf42>\u001b[0m in \u001b[0;36m<module>\u001b[0;34m()\u001b[0m\n\u001b[1;32m      6\u001b[0m \u001b[0mcols\u001b[0m \u001b[0;34m=\u001b[0m \u001b[0;34m[\u001b[0m\u001b[0;34m'BaseFLD'\u001b[0m\u001b[0;34m,\u001b[0m \u001b[0;34m'LAND_AREA1'\u001b[0m\u001b[0;34m,\u001b[0m \u001b[0;34m'CURR_ASSES'\u001b[0m\u001b[0;34m,\u001b[0m \u001b[0;34m'area_cost'\u001b[0m\u001b[0;34m,\u001b[0m \u001b[0;34m'SHAPE_AREA'\u001b[0m\u001b[0;34m]\u001b[0m\u001b[0;34m\u001b[0m\u001b[0;34m\u001b[0m\u001b[0m\n\u001b[1;32m      7\u001b[0m \u001b[0;34m\u001b[0m\u001b[0m\n\u001b[0;32m----> 8\u001b[0;31m \u001b[0mscatterplotmatrix\u001b[0m\u001b[0;34m(\u001b[0m\u001b[0mnewDF\u001b[0m\u001b[0;34m[\u001b[0m\u001b[0mcols\u001b[0m\u001b[0;34m]\u001b[0m\u001b[0;34m.\u001b[0m\u001b[0mvalues\u001b[0m\u001b[0;34m,\u001b[0m \u001b[0mnames\u001b[0m\u001b[0;34m=\u001b[0m\u001b[0mcols\u001b[0m\u001b[0;34m,\u001b[0m \u001b[0mfigsize\u001b[0m\u001b[0;34m=\u001b[0m\u001b[0;34m(\u001b[0m\u001b[0;36m10\u001b[0m\u001b[0;34m,\u001b[0m \u001b[0;36m8\u001b[0m\u001b[0;34m)\u001b[0m\u001b[0;34m,\u001b[0m \u001b[0malpha\u001b[0m\u001b[0;34m=\u001b[0m\u001b[0;36m0.5\u001b[0m\u001b[0;34m)\u001b[0m\u001b[0;34m\u001b[0m\u001b[0;34m\u001b[0m\u001b[0m\n\u001b[0m\u001b[1;32m      9\u001b[0m \u001b[0mplt\u001b[0m\u001b[0;34m.\u001b[0m\u001b[0mtight_layout\u001b[0m\u001b[0;34m(\u001b[0m\u001b[0;34m)\u001b[0m\u001b[0;34m\u001b[0m\u001b[0;34m\u001b[0m\u001b[0m\n\u001b[1;32m     10\u001b[0m \u001b[0mplt\u001b[0m\u001b[0;34m.\u001b[0m\u001b[0mshow\u001b[0m\u001b[0;34m(\u001b[0m\u001b[0;34m)\u001b[0m \u001b[0;31m#error message because some 'inf' values are present in the dataset.\u001b[0m\u001b[0;34m\u001b[0m\u001b[0;34m\u001b[0m\u001b[0m\n",
            "\u001b[0;32m/usr/local/lib/python3.6/dist-packages/mlxtend/plotting/scatterplotmatrix.py\u001b[0m in \u001b[0;36mscatterplotmatrix\u001b[0;34m(X, fig_axes, names, figsize, alpha, **kwargs)\u001b[0m\n\u001b[1;32m     78\u001b[0m \u001b[0;34m\u001b[0m\u001b[0m\n\u001b[1;32m     79\u001b[0m     \u001b[0;32mfor\u001b[0m \u001b[0mi\u001b[0m \u001b[0;32min\u001b[0m \u001b[0mrange\u001b[0m\u001b[0;34m(\u001b[0m\u001b[0mnum_features\u001b[0m\u001b[0;34m)\u001b[0m\u001b[0;34m:\u001b[0m\u001b[0;34m\u001b[0m\u001b[0;34m\u001b[0m\u001b[0m\n\u001b[0;32m---> 80\u001b[0;31m         \u001b[0maxes\u001b[0m\u001b[0;34m[\u001b[0m\u001b[0mi\u001b[0m\u001b[0;34m,\u001b[0m \u001b[0mi\u001b[0m\u001b[0;34m]\u001b[0m\u001b[0;34m.\u001b[0m\u001b[0mhist\u001b[0m\u001b[0;34m(\u001b[0m\u001b[0mX\u001b[0m\u001b[0;34m[\u001b[0m\u001b[0;34m:\u001b[0m\u001b[0;34m,\u001b[0m \u001b[0mi\u001b[0m\u001b[0;34m]\u001b[0m\u001b[0;34m,\u001b[0m \u001b[0malpha\u001b[0m\u001b[0;34m=\u001b[0m\u001b[0malpha\u001b[0m\u001b[0;34m)\u001b[0m\u001b[0;34m\u001b[0m\u001b[0;34m\u001b[0m\u001b[0m\n\u001b[0m\u001b[1;32m     81\u001b[0m         \u001b[0maxes\u001b[0m\u001b[0;34m[\u001b[0m\u001b[0mi\u001b[0m\u001b[0;34m,\u001b[0m \u001b[0mi\u001b[0m\u001b[0;34m]\u001b[0m\u001b[0;34m.\u001b[0m\u001b[0mset_ylabel\u001b[0m\u001b[0;34m(\u001b[0m\u001b[0;34m'Count'\u001b[0m\u001b[0;34m)\u001b[0m\u001b[0;34m\u001b[0m\u001b[0;34m\u001b[0m\u001b[0m\n\u001b[1;32m     82\u001b[0m         \u001b[0maxes\u001b[0m\u001b[0;34m[\u001b[0m\u001b[0mi\u001b[0m\u001b[0;34m,\u001b[0m \u001b[0mi\u001b[0m\u001b[0;34m]\u001b[0m\u001b[0;34m.\u001b[0m\u001b[0mset_xlabel\u001b[0m\u001b[0;34m(\u001b[0m\u001b[0mnames\u001b[0m\u001b[0;34m[\u001b[0m\u001b[0mi\u001b[0m\u001b[0;34m]\u001b[0m\u001b[0;34m)\u001b[0m\u001b[0;34m\u001b[0m\u001b[0;34m\u001b[0m\u001b[0m\n",
            "\u001b[0;32m/usr/local/lib/python3.6/dist-packages/matplotlib/__init__.py\u001b[0m in \u001b[0;36minner\u001b[0;34m(ax, data, *args, **kwargs)\u001b[0m\n\u001b[1;32m   1563\u001b[0m     \u001b[0;32mdef\u001b[0m \u001b[0minner\u001b[0m\u001b[0;34m(\u001b[0m\u001b[0max\u001b[0m\u001b[0;34m,\u001b[0m \u001b[0;34m*\u001b[0m\u001b[0margs\u001b[0m\u001b[0;34m,\u001b[0m \u001b[0mdata\u001b[0m\u001b[0;34m=\u001b[0m\u001b[0;32mNone\u001b[0m\u001b[0;34m,\u001b[0m \u001b[0;34m**\u001b[0m\u001b[0mkwargs\u001b[0m\u001b[0;34m)\u001b[0m\u001b[0;34m:\u001b[0m\u001b[0;34m\u001b[0m\u001b[0;34m\u001b[0m\u001b[0m\n\u001b[1;32m   1564\u001b[0m         \u001b[0;32mif\u001b[0m \u001b[0mdata\u001b[0m \u001b[0;32mis\u001b[0m \u001b[0;32mNone\u001b[0m\u001b[0;34m:\u001b[0m\u001b[0;34m\u001b[0m\u001b[0;34m\u001b[0m\u001b[0m\n\u001b[0;32m-> 1565\u001b[0;31m             \u001b[0;32mreturn\u001b[0m \u001b[0mfunc\u001b[0m\u001b[0;34m(\u001b[0m\u001b[0max\u001b[0m\u001b[0;34m,\u001b[0m \u001b[0;34m*\u001b[0m\u001b[0mmap\u001b[0m\u001b[0;34m(\u001b[0m\u001b[0msanitize_sequence\u001b[0m\u001b[0;34m,\u001b[0m \u001b[0margs\u001b[0m\u001b[0;34m)\u001b[0m\u001b[0;34m,\u001b[0m \u001b[0;34m**\u001b[0m\u001b[0mkwargs\u001b[0m\u001b[0;34m)\u001b[0m\u001b[0;34m\u001b[0m\u001b[0;34m\u001b[0m\u001b[0m\n\u001b[0m\u001b[1;32m   1566\u001b[0m \u001b[0;34m\u001b[0m\u001b[0m\n\u001b[1;32m   1567\u001b[0m         \u001b[0mbound\u001b[0m \u001b[0;34m=\u001b[0m \u001b[0mnew_sig\u001b[0m\u001b[0;34m.\u001b[0m\u001b[0mbind\u001b[0m\u001b[0;34m(\u001b[0m\u001b[0max\u001b[0m\u001b[0;34m,\u001b[0m \u001b[0;34m*\u001b[0m\u001b[0margs\u001b[0m\u001b[0;34m,\u001b[0m \u001b[0;34m**\u001b[0m\u001b[0mkwargs\u001b[0m\u001b[0;34m)\u001b[0m\u001b[0;34m\u001b[0m\u001b[0;34m\u001b[0m\u001b[0m\n",
            "\u001b[0;32m/usr/local/lib/python3.6/dist-packages/matplotlib/axes/_axes.py\u001b[0m in \u001b[0;36mhist\u001b[0;34m(self, x, bins, range, density, weights, cumulative, bottom, histtype, align, orientation, rwidth, log, color, label, stacked, **kwargs)\u001b[0m\n\u001b[1;32m   6658\u001b[0m             \u001b[0;31m# this will automatically overwrite bins,\u001b[0m\u001b[0;34m\u001b[0m\u001b[0;34m\u001b[0m\u001b[0;34m\u001b[0m\u001b[0m\n\u001b[1;32m   6659\u001b[0m             \u001b[0;31m# so that each histogram uses the same bins\u001b[0m\u001b[0;34m\u001b[0m\u001b[0;34m\u001b[0m\u001b[0;34m\u001b[0m\u001b[0m\n\u001b[0;32m-> 6660\u001b[0;31m             \u001b[0mm\u001b[0m\u001b[0;34m,\u001b[0m \u001b[0mbins\u001b[0m \u001b[0;34m=\u001b[0m \u001b[0mnp\u001b[0m\u001b[0;34m.\u001b[0m\u001b[0mhistogram\u001b[0m\u001b[0;34m(\u001b[0m\u001b[0mx\u001b[0m\u001b[0;34m[\u001b[0m\u001b[0mi\u001b[0m\u001b[0;34m]\u001b[0m\u001b[0;34m,\u001b[0m \u001b[0mbins\u001b[0m\u001b[0;34m,\u001b[0m \u001b[0mweights\u001b[0m\u001b[0;34m=\u001b[0m\u001b[0mw\u001b[0m\u001b[0;34m[\u001b[0m\u001b[0mi\u001b[0m\u001b[0;34m]\u001b[0m\u001b[0;34m,\u001b[0m \u001b[0;34m**\u001b[0m\u001b[0mhist_kwargs\u001b[0m\u001b[0;34m)\u001b[0m\u001b[0;34m\u001b[0m\u001b[0;34m\u001b[0m\u001b[0m\n\u001b[0m\u001b[1;32m   6661\u001b[0m             \u001b[0mtops\u001b[0m\u001b[0;34m.\u001b[0m\u001b[0mappend\u001b[0m\u001b[0;34m(\u001b[0m\u001b[0mm\u001b[0m\u001b[0;34m)\u001b[0m\u001b[0;34m\u001b[0m\u001b[0;34m\u001b[0m\u001b[0m\n\u001b[1;32m   6662\u001b[0m         \u001b[0mtops\u001b[0m \u001b[0;34m=\u001b[0m \u001b[0mnp\u001b[0m\u001b[0;34m.\u001b[0m\u001b[0marray\u001b[0m\u001b[0;34m(\u001b[0m\u001b[0mtops\u001b[0m\u001b[0;34m,\u001b[0m \u001b[0mfloat\u001b[0m\u001b[0;34m)\u001b[0m  \u001b[0;31m# causes problems later if it's an int\u001b[0m\u001b[0;34m\u001b[0m\u001b[0;34m\u001b[0m\u001b[0m\n",
            "\u001b[0;32m<__array_function__ internals>\u001b[0m in \u001b[0;36mhistogram\u001b[0;34m(*args, **kwargs)\u001b[0m\n",
            "\u001b[0;32m/usr/local/lib/python3.6/dist-packages/numpy/lib/histograms.py\u001b[0m in \u001b[0;36mhistogram\u001b[0;34m(a, bins, range, normed, weights, density)\u001b[0m\n\u001b[1;32m    793\u001b[0m     \u001b[0ma\u001b[0m\u001b[0;34m,\u001b[0m \u001b[0mweights\u001b[0m \u001b[0;34m=\u001b[0m \u001b[0m_ravel_and_check_weights\u001b[0m\u001b[0;34m(\u001b[0m\u001b[0ma\u001b[0m\u001b[0;34m,\u001b[0m \u001b[0mweights\u001b[0m\u001b[0;34m)\u001b[0m\u001b[0;34m\u001b[0m\u001b[0;34m\u001b[0m\u001b[0m\n\u001b[1;32m    794\u001b[0m \u001b[0;34m\u001b[0m\u001b[0m\n\u001b[0;32m--> 795\u001b[0;31m     \u001b[0mbin_edges\u001b[0m\u001b[0;34m,\u001b[0m \u001b[0muniform_bins\u001b[0m \u001b[0;34m=\u001b[0m \u001b[0m_get_bin_edges\u001b[0m\u001b[0;34m(\u001b[0m\u001b[0ma\u001b[0m\u001b[0;34m,\u001b[0m \u001b[0mbins\u001b[0m\u001b[0;34m,\u001b[0m \u001b[0mrange\u001b[0m\u001b[0;34m,\u001b[0m \u001b[0mweights\u001b[0m\u001b[0;34m)\u001b[0m\u001b[0;34m\u001b[0m\u001b[0;34m\u001b[0m\u001b[0m\n\u001b[0m\u001b[1;32m    796\u001b[0m \u001b[0;34m\u001b[0m\u001b[0m\n\u001b[1;32m    797\u001b[0m     \u001b[0;31m# Histogram is an integer or a float array depending on the weights.\u001b[0m\u001b[0;34m\u001b[0m\u001b[0;34m\u001b[0m\u001b[0;34m\u001b[0m\u001b[0m\n",
            "\u001b[0;32m/usr/local/lib/python3.6/dist-packages/numpy/lib/histograms.py\u001b[0m in \u001b[0;36m_get_bin_edges\u001b[0;34m(a, bins, range, weights)\u001b[0m\n\u001b[1;32m    427\u001b[0m             \u001b[0;32mraise\u001b[0m \u001b[0mValueError\u001b[0m\u001b[0;34m(\u001b[0m\u001b[0;34m'`bins` must be positive, when an integer'\u001b[0m\u001b[0;34m)\u001b[0m\u001b[0;34m\u001b[0m\u001b[0;34m\u001b[0m\u001b[0m\n\u001b[1;32m    428\u001b[0m \u001b[0;34m\u001b[0m\u001b[0m\n\u001b[0;32m--> 429\u001b[0;31m         \u001b[0mfirst_edge\u001b[0m\u001b[0;34m,\u001b[0m \u001b[0mlast_edge\u001b[0m \u001b[0;34m=\u001b[0m \u001b[0m_get_outer_edges\u001b[0m\u001b[0;34m(\u001b[0m\u001b[0ma\u001b[0m\u001b[0;34m,\u001b[0m \u001b[0mrange\u001b[0m\u001b[0;34m)\u001b[0m\u001b[0;34m\u001b[0m\u001b[0;34m\u001b[0m\u001b[0m\n\u001b[0m\u001b[1;32m    430\u001b[0m \u001b[0;34m\u001b[0m\u001b[0m\n\u001b[1;32m    431\u001b[0m     \u001b[0;32melif\u001b[0m \u001b[0mnp\u001b[0m\u001b[0;34m.\u001b[0m\u001b[0mndim\u001b[0m\u001b[0;34m(\u001b[0m\u001b[0mbins\u001b[0m\u001b[0;34m)\u001b[0m \u001b[0;34m==\u001b[0m \u001b[0;36m1\u001b[0m\u001b[0;34m:\u001b[0m\u001b[0;34m\u001b[0m\u001b[0;34m\u001b[0m\u001b[0m\n",
            "\u001b[0;32m/usr/local/lib/python3.6/dist-packages/numpy/lib/histograms.py\u001b[0m in \u001b[0;36m_get_outer_edges\u001b[0;34m(a, range)\u001b[0m\n\u001b[1;32m    317\u001b[0m         \u001b[0;32mif\u001b[0m \u001b[0;32mnot\u001b[0m \u001b[0;34m(\u001b[0m\u001b[0mnp\u001b[0m\u001b[0;34m.\u001b[0m\u001b[0misfinite\u001b[0m\u001b[0;34m(\u001b[0m\u001b[0mfirst_edge\u001b[0m\u001b[0;34m)\u001b[0m \u001b[0;32mand\u001b[0m \u001b[0mnp\u001b[0m\u001b[0;34m.\u001b[0m\u001b[0misfinite\u001b[0m\u001b[0;34m(\u001b[0m\u001b[0mlast_edge\u001b[0m\u001b[0;34m)\u001b[0m\u001b[0;34m)\u001b[0m\u001b[0;34m:\u001b[0m\u001b[0;34m\u001b[0m\u001b[0;34m\u001b[0m\u001b[0m\n\u001b[1;32m    318\u001b[0m             raise ValueError(\n\u001b[0;32m--> 319\u001b[0;31m                 \"supplied range of [{}, {}] is not finite\".format(first_edge, last_edge))\n\u001b[0m\u001b[1;32m    320\u001b[0m     \u001b[0;32melif\u001b[0m \u001b[0ma\u001b[0m\u001b[0;34m.\u001b[0m\u001b[0msize\u001b[0m \u001b[0;34m==\u001b[0m \u001b[0;36m0\u001b[0m\u001b[0;34m:\u001b[0m\u001b[0;34m\u001b[0m\u001b[0;34m\u001b[0m\u001b[0m\n\u001b[1;32m    321\u001b[0m         \u001b[0;31m# handle empty arrays. Can't determine range, so use 0-1.\u001b[0m\u001b[0;34m\u001b[0m\u001b[0;34m\u001b[0m\u001b[0;34m\u001b[0m\u001b[0m\n",
            "\u001b[0;31mValueError\u001b[0m: supplied range of [0.0, inf] is not finite"
          ]
        },
        {
          "output_type": "display_data",
          "data": {
            "image/png": "[encoded data removed]",
            "text/plain": [
              "<Figure size 720x576 with 25 Axes>"
            ]
          },
          "metadata": {
            "tags": [],
            "needs_background": "light"
          }
        }
      ]
    },
    {
      "cell_type": "markdown",
      "metadata": {
        "id": "Mn7ZI_31kuBa"
      },
      "source": [
        "The scatterplots show a slightly positive relationship between the 'SHAPE_AREA' and 'area_cost' variables. "
      ]
    },
    {
      "cell_type": "code",
      "metadata": {
        "id": "KH2DK6myklBB"
      },
      "source": [
        "!pip install mlxtend"
      ],
      "execution_count": null,
      "outputs": []
    },
    {
      "cell_type": "code",
      "metadata": {
        "id": "8p7WQqqUkqMP"
      },
      "source": [
        "import mlxtend\n",
        "mlxtend.__version__"
      ],
      "execution_count": null,
      "outputs": []
    },
    {
      "cell_type": "code",
      "metadata": {
        "id": "6NHlFei1k4kM"
      },
      "source": [
        "%pip install mlxtend --upgrade"
      ],
      "execution_count": null,
      "outputs": []
    },
    {
      "cell_type": "code",
      "metadata": {
        "colab": {
          "base_uri": "https://localhost:8080/",
          "height": 35
        },
        "id": "Ea5Xnysek_Dn",
        "outputId": "12a83cf4-99a8-4c2f-9287-3a7b2e1d2668"
      },
      "source": [
        "import mlxtend \n",
        "mlxtend.__version__ #Correct mlxtend version is 0.18.0"
      ],
      "execution_count": null,
      "outputs": [
        {
          "output_type": "execute_result",
          "data": {
            "application/vnd.google.colaboratory.intrinsic+json": {
              "type": "string"
            },
            "text/plain": [
              "'0.18.0'"
            ]
          },
          "metadata": {
            "tags": []
          },
          "execution_count": 113
        }
      ]
    },
    {
      "cell_type": "code",
      "metadata": {
        "colab": {
          "base_uri": "https://localhost:8080/",
          "height": 314
        },
        "id": "iANYxRdhj-3h",
        "outputId": "d8075268-bee3-478a-d7e4-1678f5dee8f7"
      },
      "source": [
        "###Create heatmap to take a look at correlation coefficients between the features###\n",
        "###From Rashka Chapter 10###\n",
        "from mlxtend.plotting import heatmap\n",
        "import numpy as np\n",
        "\n",
        "corr = np.corrcoef(newDF[cols].values.T)\n",
        "heat_m = heatmap(corr, row_names=cols, column_names=cols)\n",
        "plt.show() #area_cost contains NaN values"
      ],
      "execution_count": null,
      "outputs": [
        {
          "output_type": "display_data",
          "data": {
            "image/png": "[encoded data removed]",
            "text/plain": [
              "<Figure size 432x288 with 2 Axes>"
            ]
          },
          "metadata": {
            "tags": [],
            "needs_background": "light"
          }
        }
      ]
    },
    {
      "cell_type": "code",
      "metadata": {
        "colab": {
          "base_uri": "https://localhost:8080/"
        },
        "id": "BH-wcl7Clm0P",
        "outputId": "b8050090-89b6-4c3b-a773-5ee7e44da605"
      },
      "source": [
        "###Remove NaN values from the feature 'area_cost'###\n",
        "np.isfinite(newDF['area_cost']).all() #There are all finite values in the 'BaseFLD' column\n",
        "np.isfinite(newDF['area_cost']).sum() #There are 133435 finite values in the the 'BaseFLD' column\n",
        "#newDF.shape                           #Shape for this DataFrame is (134040, 25)\n",
        "                                       #About 605 observations with infinite values"
      ],
      "execution_count": null,
      "outputs": [
        {
          "output_type": "execute_result",
          "data": {
            "text/plain": [
              "133435"
            ]
          },
          "metadata": {
            "tags": []
          },
          "execution_count": 115
        }
      ]
    },
    {
      "cell_type": "code",
      "metadata": {
        "id": "Zs7GdjLsmtmd"
      },
      "source": [
        "###Replace infinty values with NaN##\n",
        "newDF['area_cost'].replace([np.inf, -np.inf], np.nan, inplace=True)"
      ],
      "execution_count": null,
      "outputs": []
    },
    {
      "cell_type": "code",
      "metadata": {
        "id": "XsI2SzQym5TF"
      },
      "source": [
        "###Drop the observations with NaNs for the 'area_cost' feature###\n",
        "\n",
        "newDF = newDF[newDF['area_cost'].notna()] #Take rows where not na"
      ],
      "execution_count": null,
      "outputs": []
    },
    {
      "cell_type": "code",
      "metadata": {
        "colab": {
          "base_uri": "https://localhost:8080/"
        },
        "id": "RiyHPzRinLUj",
        "outputId": "e881aabe-5238-4a6f-cd85-116253e36c64"
      },
      "source": [
        "###Check to see if the NaN values have been dropped###\n",
        "newDF['area_cost'].isnull().sum()"
      ],
      "execution_count": null,
      "outputs": [
        {
          "output_type": "execute_result",
          "data": {
            "text/plain": [
              "0"
            ]
          },
          "metadata": {
            "tags": []
          },
          "execution_count": 118
        }
      ]
    },
    {
      "cell_type": "code",
      "metadata": {
        "colab": {
          "base_uri": "https://localhost:8080/"
        },
        "id": "qOP9FC-5nlgs",
        "outputId": "20624f85-eaf3-46a0-9b6d-168b03d4479b"
      },
      "source": [
        "###Take a look at the shape of the DataFrame once again###\n",
        "newDF['area_cost'].shape #We are now working with 133435 observations"
      ],
      "execution_count": null,
      "outputs": [
        {
          "output_type": "execute_result",
          "data": {
            "text/plain": [
              "(133435,)"
            ]
          },
          "metadata": {
            "tags": []
          },
          "execution_count": 119
        }
      ]
    },
    {
      "cell_type": "code",
      "metadata": {
        "colab": {
          "base_uri": "https://localhost:8080/",
          "height": 314
        },
        "id": "6UhrLFARn8Jd",
        "outputId": "fd55ba4b-7062-4df4-9c0b-f1efff3d9548"
      },
      "source": [
        "###Retry the heatmap after removing NaNs from feature 'area_cost'###\n",
        "###Create heatmap to take a look at correlation coefficients between the features###\n",
        "###From Rashka Chapter 10###\n",
        "from mlxtend.plotting import heatmap\n",
        "import numpy as np\n",
        "\n",
        "corr = np.corrcoef(newDF[cols].values.T)\n",
        "heat_m = heatmap(corr, row_names=cols, column_names=cols)\n",
        "plt.show() #now heatmap shows all the correlation coefficient values"
      ],
      "execution_count": null,
      "outputs": [
        {
          "output_type": "display_data",
          "data": {
            "image/png": "[encoded data removed]",
            "text/plain": [
              "<Figure size 432x288 with 2 Axes>"
            ]
          },
          "metadata": {
            "tags": [],
            "needs_background": "light"
          }
        }
      ]
    },
    {
      "cell_type": "code",
      "metadata": {
        "colab": {
          "base_uri": "https://localhost:8080/",
          "height": 585
        },
        "id": "Ock_FkhJpXp5",
        "outputId": "751b9e31-3fba-42ed-ead1-1fe0e9197eb7"
      },
      "source": [
        "###Scatterplot with features with slightly positive correlation coefficients###\n",
        "import matplotlib.pyplot as plt\n",
        "from mlxtend.plotting import scatterplotmatrix\n",
        "\n",
        "cols = ['BaseFLD','area_cost', 'SHAPE_AREA', 'LAND_AREA1', 'CURR_ASSES']\n",
        "\n",
        "scatterplotmatrix(newDF[cols].values, names=cols, figsize=(10, 8), alpha=0.5)\n",
        "plt.tight_layout()\n",
        "plt.show()"
      ],
      "execution_count": null,
      "outputs": [
        {
          "output_type": "display_data",
          "data": {
            "image/png": "[encoded data removed]",
            "text/plain": [
              "<Figure size 720x576 with 25 Axes>"
            ]
          },
          "metadata": {
            "tags": [],
            "needs_background": "light"
          }
        }
      ]
    },
    {
      "cell_type": "markdown",
      "metadata": {
        "id": "Ss0Rw5qoqNdd"
      },
      "source": [
        "The features 'SHAPE_AREA' and 'area_cost' visually show a slightly positive relationship along with some potential outliers."
      ]
    },
    {
      "cell_type": "code",
      "metadata": {
        "id": "d38V01hnqvL7",
        "colab": {
          "base_uri": "https://localhost:8080/",
          "height": 513
        },
        "outputId": "07ee7566-2af3-4d05-d310-219d1289b282"
      },
      "source": [
        "###The formula is the one we obtained from the FEMA website using logathermic approximation.###\n",
        "newDF['BaseCost']= (9.6073*(np.log(newDF['BaseFLD']))+27.339)*newDF['SHAPE_AREA']\n",
        "#newDF.loc[newDF['BaseCost'] < newDF['area_cost'],'BaseCost'] = newDF['area_cost']\n",
        "newDF['SeaCOST_1']= (9.6073*(np.log(newDF['SeaLevel_1']))+27.339)*newDF['SHAPE_AREA']\n",
        "newDF['SeaCOST_2']= (9.6073*(np.log(newDF['SeaLevel_2']))+27.339)*newDF['SHAPE_AREA']\n",
        "newDF['SeaCOST_3']= (9.6073*(np.log(newDF['SeaLevel_3']))+27.339)*newDF['SHAPE_AREA']\n",
        "newDF.head()\n"
      ],
      "execution_count": null,
      "outputs": [
        {
          "output_type": "stream",
          "text": [
            "/usr/local/lib/python3.6/dist-packages/pandas/core/series.py:726: RuntimeWarning: divide by zero encountered in log\n",
            "  result = getattr(ufunc, method)(*inputs, **kwargs)\n"
          ],
          "name": "stderr"
        },
        {
          "output_type": "execute_result",
          "data": {
            "text/html": [
              "<div>\n",
              "<style scoped>\n",
              "    .dataframe tbody tr th:only-of-type {\n",
              "        vertical-align: middle;\n",
              "    }\n",
              "\n",
              "    .dataframe tbody tr th {\n",
              "        vertical-align: top;\n",
              "    }\n",
              "\n",
              "    .dataframe thead th {\n",
              "        text-align: right;\n",
              "    }\n",
              "</style>\n",
              "<table border=\"1\" class=\"dataframe\">\n",
              "  <thead>\n",
              "    <tr style=\"text-align: right;\">\n",
              "      <th></th>\n",
              "      <th>FID_Fishne</th>\n",
              "      <th>Id</th>\n",
              "      <th>LAND_AREA1</th>\n",
              "      <th>MAIL_ZIP5</th>\n",
              "      <th>SHAPE_AREA</th>\n",
              "      <th>ELE_Y_N</th>\n",
              "      <th>EX_FLD_ELV</th>\n",
              "      <th>SEA_LEVEL</th>\n",
              "      <th>CURR_ASSES</th>\n",
              "      <th>FID_FISH_1</th>\n",
              "      <th>COUNT</th>\n",
              "      <th>AREA</th>\n",
              "      <th>MIN</th>\n",
              "      <th>MAX</th>\n",
              "      <th>MEAN</th>\n",
              "      <th>geometry</th>\n",
              "      <th>area_cost</th>\n",
              "      <th>BaseFLD</th>\n",
              "      <th>SeaLevel_1</th>\n",
              "      <th>SeaLevel_2</th>\n",
              "      <th>SeaLevel_3</th>\n",
              "      <th>BaseCost</th>\n",
              "      <th>SeaCOST_1</th>\n",
              "      <th>SeaCOST_2</th>\n",
              "      <th>SeaCOST_3</th>\n",
              "    </tr>\n",
              "  </thead>\n",
              "  <tbody>\n",
              "    <tr>\n",
              "      <th>0</th>\n",
              "      <td>3</td>\n",
              "      <td>3</td>\n",
              "      <td>994910.4</td>\n",
              "      <td>20737</td>\n",
              "      <td>1504.894799</td>\n",
              "      <td>Y</td>\n",
              "      <td>9.0</td>\n",
              "      <td>10.0</td>\n",
              "      <td>556533</td>\n",
              "      <td>3</td>\n",
              "      <td>228</td>\n",
              "      <td>912.0</td>\n",
              "      <td>-1</td>\n",
              "      <td>4</td>\n",
              "      <td>2.407895</td>\n",
              "      <td>POLYGON ((-8570512.323 4678212.008, -8570524.2...</td>\n",
              "      <td>841.808084</td>\n",
              "      <td>6.592105</td>\n",
              "      <td>7.592105</td>\n",
              "      <td>8.592105</td>\n",
              "      <td>9.592105</td>\n",
              "      <td>68408.221664</td>\n",
              "      <td>70450.210726</td>\n",
              "      <td>72239.166378</td>\n",
              "      <td>73830.940397</td>\n",
              "    </tr>\n",
              "    <tr>\n",
              "      <th>1</th>\n",
              "      <td>4</td>\n",
              "      <td>4</td>\n",
              "      <td>994910.4</td>\n",
              "      <td>20737</td>\n",
              "      <td>4690.365316</td>\n",
              "      <td>Y</td>\n",
              "      <td>9.0</td>\n",
              "      <td>10.0</td>\n",
              "      <td>556533</td>\n",
              "      <td>4</td>\n",
              "      <td>726</td>\n",
              "      <td>2904.0</td>\n",
              "      <td>1</td>\n",
              "      <td>4</td>\n",
              "      <td>3.134986</td>\n",
              "      <td>POLYGON ((-8570482.323 4678203.273, -8570483.9...</td>\n",
              "      <td>2623.696647</td>\n",
              "      <td>5.865014</td>\n",
              "      <td>6.865014</td>\n",
              "      <td>7.865014</td>\n",
              "      <td>8.865014</td>\n",
              "      <td>207944.344969</td>\n",
              "      <td>215038.560626</td>\n",
              "      <td>221166.338226</td>\n",
              "      <td>226559.697824</td>\n",
              "    </tr>\n",
              "    <tr>\n",
              "      <th>2</th>\n",
              "      <td>5</td>\n",
              "      <td>5</td>\n",
              "      <td>994910.4</td>\n",
              "      <td>20737</td>\n",
              "      <td>5167.544467</td>\n",
              "      <td>Y</td>\n",
              "      <td>9.0</td>\n",
              "      <td>10.0</td>\n",
              "      <td>556533</td>\n",
              "      <td>5</td>\n",
              "      <td>784</td>\n",
              "      <td>3136.0</td>\n",
              "      <td>-1</td>\n",
              "      <td>5</td>\n",
              "      <td>3.507653</td>\n",
              "      <td>POLYGON ((-8570452.323 4678212.579, -8570454.2...</td>\n",
              "      <td>2890.621130</td>\n",
              "      <td>5.492347</td>\n",
              "      <td>6.492347</td>\n",
              "      <td>7.492347</td>\n",
              "      <td>8.492347</td>\n",
              "      <td>225840.548596</td>\n",
              "      <td>234144.782236</td>\n",
              "      <td>241256.990496</td>\n",
              "      <td>247476.824312</td>\n",
              "    </tr>\n",
              "    <tr>\n",
              "      <th>3</th>\n",
              "      <td>7</td>\n",
              "      <td>6</td>\n",
              "      <td>994910.4</td>\n",
              "      <td>20737</td>\n",
              "      <td>1608.605354</td>\n",
              "      <td>Y</td>\n",
              "      <td>9.0</td>\n",
              "      <td>10.0</td>\n",
              "      <td>556533</td>\n",
              "      <td>7</td>\n",
              "      <td>255</td>\n",
              "      <td>1020.0</td>\n",
              "      <td>-1</td>\n",
              "      <td>5</td>\n",
              "      <td>2.400000</td>\n",
              "      <td>POLYGON ((-8570422.323 4678222.108, -8570423.3...</td>\n",
              "      <td>899.821696</td>\n",
              "      <td>6.600000</td>\n",
              "      <td>7.600000</td>\n",
              "      <td>8.600000</td>\n",
              "      <td>9.600000</td>\n",
              "      <td>73141.104570</td>\n",
              "      <td>75321.383200</td>\n",
              "      <td>77231.757062</td>\n",
              "      <td>78931.749861</td>\n",
              "    </tr>\n",
              "    <tr>\n",
              "      <th>4</th>\n",
              "      <td>16</td>\n",
              "      <td>11</td>\n",
              "      <td>994910.4</td>\n",
              "      <td>20737</td>\n",
              "      <td>1448.211549</td>\n",
              "      <td>Y</td>\n",
              "      <td>9.0</td>\n",
              "      <td>10.0</td>\n",
              "      <td>556533</td>\n",
              "      <td>16</td>\n",
              "      <td>217</td>\n",
              "      <td>868.0</td>\n",
              "      <td>-1</td>\n",
              "      <td>4</td>\n",
              "      <td>2.082949</td>\n",
              "      <td>POLYGON ((-8570542.323 4678232.984, -8570543.3...</td>\n",
              "      <td>810.100606</td>\n",
              "      <td>6.917051</td>\n",
              "      <td>7.917051</td>\n",
              "      <td>8.917051</td>\n",
              "      <td>9.917051</td>\n",
              "      <td>66501.030183</td>\n",
              "      <td>68379.746821</td>\n",
              "      <td>70034.697430</td>\n",
              "      <td>71513.557409</td>\n",
              "    </tr>\n",
              "  </tbody>\n",
              "</table>\n",
              "</div>"
            ],
            "text/plain": [
              "   FID_Fishne  Id  LAND_AREA1  ...      SeaCOST_1      SeaCOST_2      SeaCOST_3\n",
              "0           3   3    994910.4  ...   70450.210726   72239.166378   73830.940397\n",
              "1           4   4    994910.4  ...  215038.560626  221166.338226  226559.697824\n",
              "2           5   5    994910.4  ...  234144.782236  241256.990496  247476.824312\n",
              "3           7   6    994910.4  ...   75321.383200   77231.757062   78931.749861\n",
              "4          16  11    994910.4  ...   68379.746821   70034.697430   71513.557409\n",
              "\n",
              "[5 rows x 25 columns]"
            ]
          },
          "metadata": {
            "tags": []
          },
          "execution_count": 122
        }
      ]
    },
    {
      "cell_type": "markdown",
      "metadata": {
        "id": "ZoDq6tldrG_3"
      },
      "source": [
        "\n",
        "\n",
        "*   BaseCost is the cost of flood damage for the 100 year floodplain.\n",
        "*   SeaCOST_1 is for the 100 year floodplain plus 1 feet of sea level increase.\n",
        "*   SeaCOST_2 is plus 2 ft\n",
        "*   SeaCOST_3 is plus 3 ft"
      ]
    },
    {
      "cell_type": "code",
      "metadata": {
        "id": "GNTsiGvXrJ4M"
      },
      "source": [
        "###Only include observations with basefld greater than zero###\n",
        "\n",
        "newDF = newDF[newDF['BaseFLD'] > 0] #only properties + lots which will be affected by flooding"
      ],
      "execution_count": null,
      "outputs": []
    },
    {
      "cell_type": "code",
      "metadata": {
        "colab": {
          "base_uri": "https://localhost:8080/"
        },
        "id": "eCx6tPGsrzoW",
        "outputId": "455bc71e-4768-477e-fd96-8c695094f1d7"
      },
      "source": [
        "newDF.shape #new shape has 7025 rows and 25 columns"
      ],
      "execution_count": null,
      "outputs": [
        {
          "output_type": "execute_result",
          "data": {
            "text/plain": [
              "(7025, 25)"
            ]
          },
          "metadata": {
            "tags": []
          },
          "execution_count": 124
        }
      ]
    },
    {
      "cell_type": "code",
      "metadata": {
        "id": "pBNPMm1cr8CH"
      },
      "source": [
        "###Only include observations with 'CURR_ASSES' values greater than $10000###\n",
        "newDF = newDF[newDF['CURR_ASSES'] > 10000] "
      ],
      "execution_count": null,
      "outputs": []
    },
    {
      "cell_type": "code",
      "metadata": {
        "colab": {
          "base_uri": "https://localhost:8080/"
        },
        "id": "Dt8nK3DpymHw",
        "outputId": "3f872a4a-be5e-4548-988e-3c6d67105eec"
      },
      "source": [
        "newDF.shape #6093 observations"
      ],
      "execution_count": null,
      "outputs": [
        {
          "output_type": "execute_result",
          "data": {
            "text/plain": [
              "(6093, 25)"
            ]
          },
          "metadata": {
            "tags": []
          },
          "execution_count": 130
        }
      ]
    },
    {
      "cell_type": "code",
      "metadata": {
        "colab": {
          "base_uri": "https://localhost:8080/"
        },
        "id": "vi0-RtFrsPf4",
        "outputId": "ae7ba8be-1761-42a5-a644-67926006ca51"
      },
      "source": [
        "###How many 'area_cost' values are equal to 0###\n",
        "sum(newDF['area_cost'] == 0) #182 records with zero area cost, presumably because no property is on the polygon"
      ],
      "execution_count": null,
      "outputs": [
        {
          "output_type": "execute_result",
          "data": {
            "text/plain": [
              "0"
            ]
          },
          "metadata": {
            "tags": []
          },
          "execution_count": 131
        }
      ]
    },
    {
      "cell_type": "code",
      "metadata": {
        "colab": {
          "base_uri": "https://localhost:8080/"
        },
        "id": "3Q2OJoFgs-Zb",
        "outputId": "75d64379-d875-4d33-bb04-440622b0642d"
      },
      "source": [
        "sum(newDF['area_cost'] != 0) #6843 records without zero costs"
      ],
      "execution_count": null,
      "outputs": [
        {
          "output_type": "execute_result",
          "data": {
            "text/plain": [
              "6843"
            ]
          },
          "metadata": {
            "tags": []
          },
          "execution_count": 128
        }
      ]
    },
    {
      "cell_type": "code",
      "metadata": {
        "id": "fWka4uhEtFJM"
      },
      "source": [
        "###retrieve observations where the values are not zero:###\n",
        "\n",
        "newDF = newDF[newDF['area_cost'] != 0] #only non-zero values"
      ],
      "execution_count": null,
      "outputs": []
    },
    {
      "cell_type": "code",
      "metadata": {
        "id": "WudP_6OZtnX-"
      },
      "source": [
        "###only include observations where the price per square foot is greater than $1###\n",
        "newDF = newDF[newDF['CURR_ASSES']/newDF['LAND_AREA1'] > 1]  #We are only interested in observations with values financial importantance"
      ],
      "execution_count": null,
      "outputs": []
    },
    {
      "cell_type": "code",
      "metadata": {
        "colab": {
          "base_uri": "https://localhost:8080/"
        },
        "id": "FgDSg2wit757",
        "outputId": "39514e41-40da-4369-8568-b696c4edfb88"
      },
      "source": [
        "newDF.shape #2609 observations and 25 features"
      ],
      "execution_count": null,
      "outputs": [
        {
          "output_type": "execute_result",
          "data": {
            "text/plain": [
              "(2609, 25)"
            ]
          },
          "metadata": {
            "tags": []
          },
          "execution_count": 134
        }
      ]
    },
    {
      "cell_type": "code",
      "metadata": {
        "colab": {
          "base_uri": "https://localhost:8080/"
        },
        "id": "WugLT9ecuCVz",
        "outputId": "d69703e2-2500-4ea1-c714-f8860a1425b3"
      },
      "source": [
        "###Calculate the minimun area cost###\n",
        "newDF['area_cost'].min() #now the minimum area cost is $1.77"
      ],
      "execution_count": null,
      "outputs": [
        {
          "output_type": "execute_result",
          "data": {
            "text/plain": [
              "1.773256505061478"
            ]
          },
          "metadata": {
            "tags": []
          },
          "execution_count": 135
        }
      ]
    },
    {
      "cell_type": "code",
      "metadata": {
        "colab": {
          "base_uri": "https://localhost:8080/"
        },
        "id": "TMex69rxuMeA",
        "outputId": "5e7c100e-e409-4f9f-c57c-638b81f0dce5"
      },
      "source": [
        "###Calculate the median area cost###\n",
        "newDF['area_cost'].median() #median area cost is $14742"
      ],
      "execution_count": null,
      "outputs": [
        {
          "output_type": "execute_result",
          "data": {
            "text/plain": [
              "14742.47079848356"
            ]
          },
          "metadata": {
            "tags": []
          },
          "execution_count": 136
        }
      ]
    },
    {
      "cell_type": "code",
      "metadata": {
        "colab": {
          "base_uri": "https://localhost:8080/",
          "height": 413
        },
        "id": "RcoOQ4EluuCv",
        "outputId": "d92ed369-405c-4cbf-99d8-e69479214820"
      },
      "source": [
        "###Construct a boxplot to take at the data###\n",
        "plt.boxplot(a_c_v, labels=['area_cost']) #outliers are present in the data"
      ],
      "execution_count": null,
      "outputs": [
        {
          "output_type": "execute_result",
          "data": {
            "text/plain": [
              "{'boxes': [<matplotlib.lines.Line2D at 0x7fe4e1c9be48>],\n",
              " 'caps': [<matplotlib.lines.Line2D at 0x7fe4e1dd1fd0>,\n",
              "  <matplotlib.lines.Line2D at 0x7fe4e1bb4e10>],\n",
              " 'fliers': [<matplotlib.lines.Line2D at 0x7fe4e1b7cc18>],\n",
              " 'means': [],\n",
              " 'medians': [<matplotlib.lines.Line2D at 0x7fe4e216c438>],\n",
              " 'whiskers': [<matplotlib.lines.Line2D at 0x7fe4e1c20ef0>,\n",
              "  <matplotlib.lines.Line2D at 0x7fe4e1e27cc0>]}"
            ]
          },
          "metadata": {
            "tags": []
          },
          "execution_count": 137
        },
        {
          "output_type": "display_data",
          "data": {
            "image/png": "[encoded data removed]",
            "text/plain": [
              "<Figure size 432x288 with 1 Axes>"
            ]
          },
          "metadata": {
            "tags": [],
            "needs_background": "light"
          }
        }
      ]
    },
    {
      "cell_type": "code",
      "metadata": {
        "id": "c4rq8wzzwScw"
      },
      "source": [
        "############################################\n",
        "#######Remove any outliers in the dataset###\n",
        "############################################"
      ],
      "execution_count": null,
      "outputs": []
    },
    {
      "cell_type": "code",
      "metadata": {
        "colab": {
          "base_uri": "https://localhost:8080/"
        },
        "id": "iPpbI1IavOC-",
        "outputId": "af8f583a-b42b-443e-eb4f-54609b5d1388"
      },
      "source": [
        "###Convert values to zscores###\n",
        "from scipy import stats\n",
        "z = np.abs(stats.zscore(myDF['area_cost']))\n",
        "print(z) #convert values into z scores"
      ],
      "execution_count": null,
      "outputs": [
        {
          "output_type": "stream",
          "text": [
            "[0.6116373  0.74288621 0.86096668 ... 0.91448998 0.91437849 0.91459284]\n"
          ],
          "name": "stdout"
        }
      ]
    },
    {
      "cell_type": "code",
      "metadata": {
        "colab": {
          "base_uri": "https://localhost:8080/"
        },
        "id": "O2xyCf9Tvp6y",
        "outputId": "ac18aab3-e8ce-4cd7-b46d-3ffa30b49cb5"
      },
      "source": [
        "###Check to see if there are any values past interquartile (IQ) 3###\n",
        "threshold = 3\n",
        "print(np.where(z > 3)) #There are values past 3"
      ],
      "execution_count": null,
      "outputs": [
        {
          "output_type": "stream",
          "text": [
            "(array([], dtype=int64),)\n"
          ],
          "name": "stdout"
        }
      ]
    },
    {
      "cell_type": "code",
      "metadata": {
        "colab": {
          "base_uri": "https://localhost:8080/"
        },
        "id": "6rpvtLkIwApc",
        "outputId": "372b0073-881b-47fb-c90a-0a1b3f568c03"
      },
      "source": [
        "###Create variables for the first and third IQ###\n",
        "Q1 = myDF['area_cost'].quantile(0.25)\n",
        "Q3 = myDF['area_cost'].quantile(0.75)\n",
        "print(Q1)\n",
        "print(Q3)"
      ],
      "execution_count": null,
      "outputs": [
        {
          "output_type": "stream",
          "text": [
            "7780.050121320623\n",
            "40119.195327766545\n"
          ],
          "name": "stdout"
        }
      ]
    },
    {
      "cell_type": "code",
      "metadata": {
        "colab": {
          "base_uri": "https://localhost:8080/"
        },
        "id": "4gtNJ69-wvQI",
        "outputId": "d82098e0-ad0d-4844-b2ea-f06818283d80"
      },
      "source": [
        "###Calculate the interquartile range (IQR)###\n",
        "IQR = Q3 - Q1\n",
        "print(IQR) #43398"
      ],
      "execution_count": null,
      "outputs": [
        {
          "output_type": "stream",
          "text": [
            "32339.145206445923\n"
          ],
          "name": "stdout"
        }
      ]
    },
    {
      "cell_type": "code",
      "metadata": {
        "colab": {
          "base_uri": "https://localhost:8080/"
        },
        "id": "NWPVUp8vw9h6",
        "outputId": "c1bfc3fc-5d2d-4e25-d126-fa0e6c681209"
      },
      "source": [
        "###Check if all 'area_cost' values are float### \n",
        "np.array_equal(myDF.area_cost, myDF.area_cost.astype(float)) #all float values "
      ],
      "execution_count": null,
      "outputs": [
        {
          "output_type": "execute_result",
          "data": {
            "text/plain": [
              "True"
            ]
          },
          "metadata": {
            "tags": []
          },
          "execution_count": 142
        }
      ]
    },
    {
      "cell_type": "code",
      "metadata": {
        "colab": {
          "base_uri": "https://localhost:8080/"
        },
        "id": "2YWxtWpMxHyB",
        "outputId": "3f8b82d1-af8b-490d-c295-6f2d5a9fa8d8"
      },
      "source": [
        "print((myDF['area_cost'] < (Q1 - 1.5 * IQR)) | (myDF['area_cost'] > (Q3 + 1.5 * IQR)))"
      ],
      "execution_count": null,
      "outputs": [
        {
          "output_type": "stream",
          "text": [
            "80        False\n",
            "81        False\n",
            "82        False\n",
            "83        False\n",
            "84        False\n",
            "          ...  \n",
            "130742    False\n",
            "132145    False\n",
            "132678    False\n",
            "132679    False\n",
            "132680    False\n",
            "Name: area_cost, Length: 2445, dtype: bool\n"
          ],
          "name": "stdout"
        }
      ]
    },
    {
      "cell_type": "code",
      "metadata": {
        "id": "ZTFYj9HmxS3L",
        "colab": {
          "base_uri": "https://localhost:8080/"
        },
        "outputId": "5f180410-590d-46a7-a423-4b45600bf520"
      },
      "source": [
        "###Removing outliers###\n",
        "\n",
        "myDF = myDF[(newDF['area_cost'] > (Q1 - 1.5 * IQR)) & (myDF['area_cost'] < (Q3 + 1.5 * IQR))]"
      ],
      "execution_count": null,
      "outputs": [
        {
          "output_type": "stream",
          "text": [
            "/usr/local/lib/python3.6/dist-packages/geopandas/geodataframe.py:828: UserWarning: Boolean Series key will be reindexed to match DataFrame index.\n",
            "  result = super(GeoDataFrame, self).__getitem__(key)\n"
          ],
          "name": "stderr"
        }
      ]
    },
    {
      "cell_type": "code",
      "metadata": {
        "colab": {
          "base_uri": "https://localhost:8080/"
        },
        "id": "XRH4mRr_xdPP",
        "outputId": "51cc3c4e-ddfb-402b-e838-34b9aac3caeb"
      },
      "source": [
        "myDF['area_cost'].shape #2175 observations"
      ],
      "execution_count": null,
      "outputs": [
        {
          "output_type": "execute_result",
          "data": {
            "text/plain": [
              "(2175,)"
            ]
          },
          "metadata": {
            "tags": []
          },
          "execution_count": 145
        }
      ]
    },
    {
      "cell_type": "code",
      "metadata": {
        "colab": {
          "base_uri": "https://localhost:8080/",
          "height": 297
        },
        "id": "rhcZgukDxjjH",
        "outputId": "208cbe4d-ea9b-4560-d834-05de0c6b69ca"
      },
      "source": [
        "###Create boxplot once again to see if the visible outliers have been dropped##\n",
        "import seaborn as sns\n",
        "sns.boxplot(x=myDF['area_cost']) #outliers dropped"
      ],
      "execution_count": null,
      "outputs": [
        {
          "output_type": "execute_result",
          "data": {
            "text/plain": [
              "<matplotlib.axes._subplots.AxesSubplot at 0x7fe4e1d96710>"
            ]
          },
          "metadata": {
            "tags": []
          },
          "execution_count": 146
        },
        {
          "output_type": "display_data",
          "data": {
            "image/png": "[encoded data removed]",
            "text/plain": [
              "<Figure size 432x288 with 1 Axes>"
            ]
          },
          "metadata": {
            "tags": [],
            "needs_background": "light"
          }
        }
      ]
    },
    {
      "cell_type": "code",
      "metadata": {
        "colab": {
          "base_uri": "https://localhost:8080/",
          "height": 513
        },
        "id": "9yDnBXp4yBoh",
        "outputId": "51200c9d-0070-4abf-ec43-76434c1b8e30"
      },
      "source": [
        "###Create scatterplot to take a look at the slimmed down data###\n",
        "fig, ax = plt.subplots(figsize=(16,8))\n",
        "ax.scatter(myDF['SHAPE_AREA'], myDF['area_cost'], c='sienna', marker='s', edgecolor='white')\n",
        "ax.set_xlabel('Area (square feet)')\n",
        "ax.set_ylabel('Current assessed value ($)')\n",
        "ax.set_title('Relationship between Area and Current assessed value')\n",
        "plt.show() "
      ],
      "execution_count": null,
      "outputs": [
        {
          "output_type": "display_data",
          "data": {
            "image/png": "[encoded data removed]",
            "text/plain": [
              "<Figure size 1152x576 with 1 Axes>"
            ]
          },
          "metadata": {
            "tags": [],
            "needs_background": "light"
          }
        }
      ]
    },
    {
      "cell_type": "markdown",
      "metadata": {
        "id": "mfPpEJNX121y"
      },
      "source": [
        "Scatterplot shows heteroscidasticity in the data. "
      ]
    },
    {
      "cell_type": "code",
      "metadata": {
        "colab": {
          "base_uri": "https://localhost:8080/",
          "height": 314
        },
        "id": "MukTaAyO0ViG",
        "outputId": "066b6c63-00b6-43e7-bc7e-dfa90ba660cc"
      },
      "source": [
        "###Heatmap without the 'area_cost' outliers###\n",
        "###From Rashka Chapter 10###\n",
        "from mlxtend.plotting import heatmap\n",
        "import numpy as np\n",
        "corr = np.corrcoef(myDF[cols].values.T)\n",
        "heat_m = heatmap(corr, row_names=cols, column_names=cols)\n",
        "plt.show() #now heatmap shows all the correlation coefficient values"
      ],
      "execution_count": null,
      "outputs": [
        {
          "output_type": "display_data",
          "data": {
            "image/png": "[encoded data removed]",
            "text/plain": [
              "<Figure size 432x288 with 2 Axes>"
            ]
          },
          "metadata": {
            "tags": [],
            "needs_background": "light"
          }
        }
      ]
    },
    {
      "cell_type": "markdown",
      "metadata": {
        "id": "69GgIPnH08-x"
      },
      "source": [
        "The heatmap shows that there are not any features in the dataset with strong correlations. Stopped the EDA here and modeling was excluded because no correlations in the data were found. "
      ]
    },
    {
      "cell_type": "markdown",
      "metadata": {
        "id": "z3dtgXTp2SLS"
      },
      "source": [
        "Referenced code is from Sebastian Raschka's Python Machine Learning, Third Edition."
      ]
    }
  ]
}